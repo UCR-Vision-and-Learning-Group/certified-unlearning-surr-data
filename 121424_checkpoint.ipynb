{
 "cells": [
  {
   "cell_type": "code",
   "id": "initial_id",
   "metadata": {
    "collapsed": true,
    "ExecuteTime": {
     "end_time": "2024-12-15T03:52:44.271953Z",
     "start_time": "2024-12-15T03:52:42.489622Z"
    }
   },
   "source": [
    "import torch\n",
    "import torch.nn as nn\n",
    "from torchvision.transforms import v2\n",
    "from torch.utils.data import ConcatDataset, TensorDataset\n",
    "import numpy as np\n",
    "\n",
    "from src.data import (get_train_test_datasets, get_dataloaders,\n",
    "                      get_retain_forget_datasets, get_exact_surr_datasets)\n",
    "from src.train import train\n",
    "from src.eval import evaluate\n",
    "from src.utils import set_seed\n",
    "from src.forget import forget\n",
    "\n",
    "set_seed(42)\n",
    "device = torch.device('cuda:0' if torch.cuda.is_available() else 'cpu')"
   ],
   "outputs": [],
   "execution_count": 1
  },
  {
   "metadata": {
    "ExecuteTime": {
     "end_time": "2024-12-15T03:52:44.800922Z",
     "start_time": "2024-12-15T03:52:44.797757Z"
    }
   },
   "cell_type": "code",
   "source": [
    "class ShallowModel(nn.Module):\n",
    "    def __init__(self, *args, **kwargs):\n",
    "        super().__init__(*args, **kwargs)\n",
    "        self.extractor = nn.Sequential(\n",
    "            nn.Linear(784, 256),\n",
    "            nn.ReLU()\n",
    "        )\n",
    "        \n",
    "        self.classifier = nn.Linear(256, 10)\n",
    "\n",
    "    def forward(self, x):\n",
    "        return self.classifier(self.extractor(x))"
   ],
   "id": "c5a6fbe3a5fc3196",
   "outputs": [],
   "execution_count": 2
  },
  {
   "metadata": {
    "ExecuteTime": {
     "end_time": "2024-12-15T03:52:47.409246Z",
     "start_time": "2024-12-15T03:52:45.733981Z"
    }
   },
   "cell_type": "code",
   "source": [
    "gtransform = v2.Compose([\n",
    "    v2.Grayscale(),\n",
    "    v2.Resize((28, 28)),\n",
    "    v2.ToImage(),\n",
    "    v2.ToDtype(torch.float32, scale=True),\n",
    "    v2.Normalize(mean=[0.5], std=[0.5]),\n",
    "    v2.Lambda(lambda img: img.view(-1))\n",
    "])\n",
    "\n",
    "\n",
    "gtrain_dataset, gval_dataset = get_train_test_datasets('usps', gtransform)\n",
    "gtrain_loader, gval_loader = get_dataloaders([gtrain_dataset, gval_dataset], batch_size=256)"
   ],
   "id": "d4bbf1d2a79f3264",
   "outputs": [],
   "execution_count": 3
  },
  {
   "metadata": {
    "ExecuteTime": {
     "end_time": "2024-12-15T03:53:03.650113Z",
     "start_time": "2024-12-15T03:52:47.410477Z"
    }
   },
   "cell_type": "code",
   "source": [
    "model = ShallowModel()\n",
    "model = model.to(device)\n",
    "criterion = nn.CrossEntropyLoss()\n",
    "optimizer = torch.optim.Adam(model.parameters(), lr=0.001)\n",
    "train(gtrain_loader, gval_loader, model, criterion, optimizer, num_epoch=10, device=device)\n",
    "evaluate(gval_loader, model, criterion, device=device)"
   ],
   "id": "b295c7399da2e718",
   "outputs": [
    {
     "name": "stderr",
     "output_type": "stream",
     "text": [
      "train epoch 1: 100%|██████████| 29/29 [00:01<00:00, 21.18batch/s, loss=0.193]\n",
      "eval: 100%|██████████| 8/8 [00:00<00:00, 22.28batch/s, acc=0.886, loss=0.578]\n",
      "train epoch 2: 100%|██████████| 29/29 [00:01<00:00, 23.85batch/s, loss=0.193]\n",
      "eval: 100%|██████████| 8/8 [00:00<00:00, 24.26batch/s, acc=0.906, loss=0.452]\n",
      "train epoch 3: 100%|██████████| 29/29 [00:01<00:00, 23.82batch/s, loss=0.152]\n",
      "eval: 100%|██████████| 8/8 [00:00<00:00, 24.29batch/s, acc=0.906, loss=0.35] \n",
      "train epoch 4: 100%|██████████| 29/29 [00:01<00:00, 23.78batch/s, loss=0.174]\n",
      "eval: 100%|██████████| 8/8 [00:00<00:00, 24.30batch/s, acc=0.917, loss=0.459]\n",
      "train epoch 5: 100%|██████████| 29/29 [00:01<00:00, 23.78batch/s, loss=0.0952]\n",
      "eval: 100%|██████████| 8/8 [00:00<00:00, 24.26batch/s, acc=0.926, loss=0.579]\n",
      "train epoch 6: 100%|██████████| 29/29 [00:01<00:00, 23.73batch/s, loss=0.157] \n",
      "eval: 100%|██████████| 8/8 [00:00<00:00, 24.11batch/s, acc=0.92, loss=0.301] \n",
      "train epoch 7: 100%|██████████| 29/29 [00:01<00:00, 23.77batch/s, loss=0.0653]\n",
      "eval: 100%|██████████| 8/8 [00:00<00:00, 24.30batch/s, acc=0.93, loss=0.274] \n",
      "train epoch 8: 100%|██████████| 29/29 [00:01<00:00, 23.66batch/s, loss=0.0972]\n",
      "eval: 100%|██████████| 8/8 [00:00<00:00, 24.10batch/s, acc=0.928, loss=0.488]\n",
      "train epoch 9: 100%|██████████| 29/29 [00:01<00:00, 23.73batch/s, loss=0.0979]\n",
      "eval: 100%|██████████| 8/8 [00:00<00:00, 24.25batch/s, acc=0.932, loss=0.219]\n",
      "train epoch 10: 100%|██████████| 29/29 [00:01<00:00, 23.77batch/s, loss=0.138] \n",
      "eval: 100%|██████████| 8/8 [00:00<00:00, 19.28batch/s, acc=0.93, loss=0.338] \n",
      "eval: 100%|██████████| 8/8 [00:00<00:00, 24.20batch/s, acc=0.93, loss=0.216] \n"
     ]
    }
   ],
   "execution_count": 4
  },
  {
   "metadata": {
    "ExecuteTime": {
     "end_time": "2024-12-15T03:53:13.854818Z",
     "start_time": "2024-12-15T03:53:03.651058Z"
    }
   },
   "cell_type": "code",
   "source": [
    "transform = v2.Compose([\n",
    "    v2.ToImage(),\n",
    "    v2.ToDtype(torch.float32, scale=True),\n",
    "    v2.Normalize(mean=[0.1307], std=[0.3081]),\n",
    "    v2.Lambda(lambda img: img.view(-1))\n",
    "])\n",
    "\n",
    "train_dataset, val_dataset = get_train_test_datasets('mnist', transform)\n",
    "train_loader, val_loader = get_dataloaders([train_dataset, val_dataset], batch_size=256)\n",
    "etrain_data, etrain_label, eval_data, eval_label = [], [], [], []\n",
    "with torch.no_grad():\n",
    "    for data, label in train_loader:\n",
    "        data = data.to(device)\n",
    "        edata = model.extractor(data).to('cpu')\n",
    "        etrain_data.append(edata)\n",
    "        etrain_label.append(label)\n",
    "    for data, label in val_loader:\n",
    "        data = data.to(device)\n",
    "        edata = model.extractor(data).to('cpu')\n",
    "        eval_data.append(edata)\n",
    "        eval_label.append(label)\n",
    "etrain_data = torch.cat(etrain_data, dim=0)\n",
    "etrain_label = torch.cat(etrain_label, dim=0)\n",
    "eval_data = torch.cat(eval_data, dim=0)\n",
    "eval_label = torch.cat(eval_label, dim=0)\n",
    "train_dataset = TensorDataset(etrain_data, etrain_label)\n",
    "val_dataset = TensorDataset(eval_data, eval_label)"
   ],
   "id": "af6d486110582782",
   "outputs": [],
   "execution_count": 5
  },
  {
   "metadata": {
    "ExecuteTime": {
     "end_time": "2024-12-15T03:53:14.098382Z",
     "start_time": "2024-12-15T03:53:13.856020Z"
    }
   },
   "cell_type": "code",
   "source": [
    "retain_dataset, forget_dataset = get_retain_forget_datasets(train_dataset, 0.01)\n",
    "exact_ratios = np.asarray([0.2, 0.05, 0.1, 0.05, 0.2, 0.1, 0.05, 0.1, 0.05, 0.1])\n",
    "surr_ratios = np.asarray([0.1, 0.1, 0.1, 0.1, 0.1, 0.1, 0.1, 0.1, 0.1, 0.1])\n",
    "exact_size = int(len(retain_dataset) / 2)\n",
    "surr_size = len(retain_dataset) - exact_size\n",
    "retain_dataset, surr_dataset = get_exact_surr_datasets(retain_dataset,\n",
    "                                                      target_size=exact_size, target_ratios=exact_ratios,\n",
    "                                                      starget_size=surr_size, starget_ratios=surr_ratios)\n",
    "train_dataset = ConcatDataset([retain_dataset, forget_dataset])\n",
    "train_loader, val_loader = get_dataloaders([train_dataset, val_dataset], batch_size=256)\n",
    "retain_loader = get_dataloaders(retain_dataset, batch_size=256)\n",
    "forget_loader = get_dataloaders(forget_dataset, batch_size=256)\n",
    "surr_loader = get_dataloaders(surr_dataset, batch_size=256)\n",
    "\n",
    "def print_eval(model_arg):\n",
    "    print('#######################################')\n",
    "    print('train:')\n",
    "    evaluate(train_loader, model_arg, criterion, device=device)\n",
    "    print('#######################################')\n",
    "    print('#######################################')\n",
    "    print('val:')\n",
    "    evaluate(val_loader, model_arg, criterion, device=device)\n",
    "    print('#######################################')\n",
    "    print('#######################################')\n",
    "    print('retain:')\n",
    "    evaluate(retain_loader, model_arg, criterion, device=device)\n",
    "    print('#######################################')\n",
    "    print('#######################################')\n",
    "    print('forget:')\n",
    "    evaluate(forget_loader, model_arg, criterion, device=device)\n",
    "    print('#######################################')\n",
    "    print('#######################################')\n",
    "    print('surrogate:')\n",
    "    evaluate(surr_loader, model_arg, criterion, device=device)\n",
    "    print('#######################################')"
   ],
   "id": "b781bffec2b83dc9",
   "outputs": [],
   "execution_count": 6
  },
  {
   "metadata": {
    "ExecuteTime": {
     "end_time": "2024-12-15T03:53:21.424377Z",
     "start_time": "2024-12-15T03:53:15.829672Z"
    }
   },
   "cell_type": "code",
   "source": [
    "# train with all\n",
    "model = model.to('cpu') # just to clear the GPU\n",
    "model = nn.Linear(256, 10, bias=False).to(device)\n",
    "optimizer = torch.optim.Adam(model.parameters(), lr=0.001)\n",
    "train(train_loader, val_loader, model, criterion, optimizer, num_epoch=10, device=device)\n",
    "\n",
    "print_eval(model)\n",
    "model = model.to('cpu')"
   ],
   "id": "f28f5f1cf7afeebf",
   "outputs": [
    {
     "name": "stderr",
     "output_type": "stream",
     "text": [
      "train epoch 1: 100%|██████████| 119/119 [00:00<00:00, 257.24batch/s, loss=0.671]\n",
      "eval: 100%|██████████| 40/40 [00:00<00:00, 415.10batch/s, acc=0.82, loss=1.08]\n",
      "train epoch 2: 100%|██████████| 119/119 [00:00<00:00, 356.44batch/s, loss=0.471]\n",
      "eval: 100%|██████████| 40/40 [00:00<00:00, 471.24batch/s, acc=0.861, loss=0.445]\n",
      "train epoch 3: 100%|██████████| 119/119 [00:00<00:00, 365.84batch/s, loss=0.406]\n",
      "eval: 100%|██████████| 40/40 [00:00<00:00, 478.88batch/s, acc=0.88, loss=0.562]\n",
      "train epoch 4: 100%|██████████| 119/119 [00:00<00:00, 362.81batch/s, loss=0.283]\n",
      "eval: 100%|██████████| 40/40 [00:00<00:00, 465.68batch/s, acc=0.895, loss=0.293]\n",
      "train epoch 5: 100%|██████████| 119/119 [00:00<00:00, 281.74batch/s, loss=0.419]\n",
      "eval: 100%|██████████| 40/40 [00:00<00:00, 478.52batch/s, acc=0.899, loss=0.476]\n",
      "train epoch 6: 100%|██████████| 119/119 [00:00<00:00, 362.42batch/s, loss=0.214]\n",
      "eval: 100%|██████████| 40/40 [00:00<00:00, 482.64batch/s, acc=0.903, loss=0.256]\n",
      "train epoch 7: 100%|██████████| 119/119 [00:00<00:00, 360.20batch/s, loss=0.344]\n",
      "eval: 100%|██████████| 40/40 [00:00<00:00, 455.06batch/s, acc=0.909, loss=0.427]\n",
      "train epoch 8: 100%|██████████| 119/119 [00:00<00:00, 362.28batch/s, loss=0.396]\n",
      "eval: 100%|██████████| 40/40 [00:00<00:00, 460.74batch/s, acc=0.915, loss=0.547]\n",
      "train epoch 9: 100%|██████████| 119/119 [00:00<00:00, 325.89batch/s, loss=0.274]\n",
      "eval: 100%|██████████| 40/40 [00:00<00:00, 438.29batch/s, acc=0.915, loss=0.529]\n",
      "train epoch 10: 100%|██████████| 119/119 [00:00<00:00, 316.98batch/s, loss=0.199]\n",
      "eval: 100%|██████████| 40/40 [00:00<00:00, 378.23batch/s, acc=0.913, loss=0.302]\n"
     ]
    },
    {
     "name": "stdout",
     "output_type": "stream",
     "text": [
      "#######################################\n",
      "train:\n"
     ]
    },
    {
     "name": "stderr",
     "output_type": "stream",
     "text": [
      "eval: 100%|██████████| 119/119 [00:00<00:00, 381.31batch/s, acc=0.93, loss=0.242]\n"
     ]
    },
    {
     "name": "stdout",
     "output_type": "stream",
     "text": [
      "#######################################\n",
      "#######################################\n",
      "val:\n"
     ]
    },
    {
     "name": "stderr",
     "output_type": "stream",
     "text": [
      "eval: 100%|██████████| 40/40 [00:00<00:00, 472.36batch/s, acc=0.913, loss=0.261]\n"
     ]
    },
    {
     "name": "stdout",
     "output_type": "stream",
     "text": [
      "#######################################\n",
      "#######################################\n",
      "retain:\n"
     ]
    },
    {
     "name": "stderr",
     "output_type": "stream",
     "text": [
      "eval: 100%|██████████| 117/117 [00:00<00:00, 310.03batch/s, acc=0.93, loss=0.496]\n"
     ]
    },
    {
     "name": "stdout",
     "output_type": "stream",
     "text": [
      "#######################################\n",
      "#######################################\n",
      "forget:\n"
     ]
    },
    {
     "name": "stderr",
     "output_type": "stream",
     "text": [
      "eval: 100%|██████████| 3/3 [00:00<00:00, 503.20batch/s, acc=0.932, loss=0.366]\n"
     ]
    },
    {
     "name": "stdout",
     "output_type": "stream",
     "text": [
      "#######################################\n",
      "#######################################\n",
      "surrogate:\n"
     ]
    },
    {
     "name": "stderr",
     "output_type": "stream",
     "text": [
      "eval: 100%|██████████| 117/117 [00:00<00:00, 416.50batch/s, acc=0.912, loss=0.568]"
     ]
    },
    {
     "name": "stdout",
     "output_type": "stream",
     "text": [
      "#######################################\n"
     ]
    },
    {
     "name": "stderr",
     "output_type": "stream",
     "text": [
      "\n"
     ]
    }
   ],
   "execution_count": 7
  },
  {
   "metadata": {
    "ExecuteTime": {
     "end_time": "2024-12-15T03:53:28.539810Z",
     "start_time": "2024-12-15T03:53:23.269559Z"
    }
   },
   "cell_type": "code",
   "source": [
    "# retrain from scratch\n",
    "rmodel = nn.Linear(256, 10, bias=False).to(device)\n",
    "optimizer = torch.optim.Adam(rmodel.parameters(), lr=0.001)\n",
    "train(retain_loader, val_loader, rmodel, criterion, optimizer, num_epoch=10, device=device)\n",
    "\n",
    "print_eval(rmodel)\n",
    "rmodel = rmodel.to('cpu')"
   ],
   "id": "8d15adb230c3f70b",
   "outputs": [
    {
     "name": "stderr",
     "output_type": "stream",
     "text": [
      "train epoch 1: 100%|██████████| 117/117 [00:00<00:00, 327.69batch/s, loss=1.25]\n",
      "eval: 100%|██████████| 40/40 [00:00<00:00, 468.56batch/s, acc=0.815, loss=0.652]\n",
      "train epoch 2: 100%|██████████| 117/117 [00:00<00:00, 368.79batch/s, loss=0.794]\n",
      "eval: 100%|██████████| 40/40 [00:00<00:00, 470.94batch/s, acc=0.859, loss=0.554]\n",
      "train epoch 3: 100%|██████████| 117/117 [00:00<00:00, 369.34batch/s, loss=0.278]\n",
      "eval: 100%|██████████| 40/40 [00:00<00:00, 485.95batch/s, acc=0.877, loss=0.593]\n",
      "train epoch 4: 100%|██████████| 117/117 [00:00<00:00, 367.89batch/s, loss=0.193]\n",
      "eval: 100%|██████████| 40/40 [00:00<00:00, 480.97batch/s, acc=0.886, loss=0.237]\n",
      "train epoch 5: 100%|██████████| 117/117 [00:00<00:00, 366.23batch/s, loss=0.0764]\n",
      "eval: 100%|██████████| 40/40 [00:00<00:00, 491.22batch/s, acc=0.895, loss=0.402]\n",
      "train epoch 6: 100%|██████████| 117/117 [00:00<00:00, 361.65batch/s, loss=0.012]\n",
      "eval: 100%|██████████| 40/40 [00:00<00:00, 461.15batch/s, acc=0.902, loss=0.333]\n",
      "train epoch 7: 100%|██████████| 117/117 [00:00<00:00, 284.16batch/s, loss=0.211]\n",
      "eval: 100%|██████████| 40/40 [00:00<00:00, 465.45batch/s, acc=0.9, loss=0.611]\n",
      "train epoch 8: 100%|██████████| 117/117 [00:00<00:00, 362.42batch/s, loss=0.00888]\n",
      "eval: 100%|██████████| 40/40 [00:00<00:00, 454.73batch/s, acc=0.909, loss=0.331]\n",
      "train epoch 9: 100%|██████████| 117/117 [00:00<00:00, 329.18batch/s, loss=1.26] \n",
      "eval: 100%|██████████| 40/40 [00:00<00:00, 438.41batch/s, acc=0.912, loss=0.272]\n",
      "train epoch 10: 100%|██████████| 117/117 [00:00<00:00, 326.17batch/s, loss=0.397]\n",
      "eval: 100%|██████████| 40/40 [00:00<00:00, 377.93batch/s, acc=0.918, loss=0.319]\n"
     ]
    },
    {
     "name": "stdout",
     "output_type": "stream",
     "text": [
      "#######################################\n",
      "train:\n"
     ]
    },
    {
     "name": "stderr",
     "output_type": "stream",
     "text": [
      "eval: 100%|██████████| 119/119 [00:00<00:00, 390.34batch/s, acc=0.929, loss=0.25] \n"
     ]
    },
    {
     "name": "stdout",
     "output_type": "stream",
     "text": [
      "#######################################\n",
      "#######################################\n",
      "val:\n"
     ]
    },
    {
     "name": "stderr",
     "output_type": "stream",
     "text": [
      "eval: 100%|██████████| 40/40 [00:00<00:00, 479.85batch/s, acc=0.918, loss=0.341]\n"
     ]
    },
    {
     "name": "stdout",
     "output_type": "stream",
     "text": [
      "#######################################\n",
      "#######################################\n",
      "retain:\n"
     ]
    },
    {
     "name": "stderr",
     "output_type": "stream",
     "text": [
      "eval: 100%|██████████| 117/117 [00:00<00:00, 421.15batch/s, acc=0.929, loss=0.812]\n"
     ]
    },
    {
     "name": "stdout",
     "output_type": "stream",
     "text": [
      "#######################################\n",
      "#######################################\n",
      "forget:\n"
     ]
    },
    {
     "name": "stderr",
     "output_type": "stream",
     "text": [
      "eval: 100%|██████████| 3/3 [00:00<00:00, 395.98batch/s, acc=0.922, loss=0.239]\n"
     ]
    },
    {
     "name": "stdout",
     "output_type": "stream",
     "text": [
      "#######################################\n",
      "#######################################\n",
      "surrogate:\n"
     ]
    },
    {
     "name": "stderr",
     "output_type": "stream",
     "text": [
      "eval: 100%|██████████| 117/117 [00:00<00:00, 422.66batch/s, acc=0.914, loss=0.243]"
     ]
    },
    {
     "name": "stdout",
     "output_type": "stream",
     "text": [
      "#######################################\n"
     ]
    },
    {
     "name": "stderr",
     "output_type": "stream",
     "text": [
      "\n"
     ]
    }
   ],
   "execution_count": 8
  },
  {
   "metadata": {
    "ExecuteTime": {
     "end_time": "2024-12-15T03:53:31.171136Z",
     "start_time": "2024-12-15T03:53:29.901362Z"
    }
   },
   "cell_type": "code",
   "source": [
    "# forget with exact\n",
    "model = model.to(device)\n",
    "fmodel = forget(model, retain_loader, forget_loader, criterion, linear=True, num_class=10)\n",
    "model = model.to('cpu')\n",
    "print_eval(fmodel)\n",
    "fmodel = fmodel.to('cpu')"
   ],
   "id": "f8652d8706c83b77",
   "outputs": [
    {
     "name": "stdout",
     "output_type": "stream",
     "text": [
      "#######################################\n",
      "train:\n"
     ]
    },
    {
     "name": "stderr",
     "output_type": "stream",
     "text": [
      "eval: 100%|██████████| 119/119 [00:00<00:00, 322.85batch/s, acc=0.926, loss=0.181]\n"
     ]
    },
    {
     "name": "stdout",
     "output_type": "stream",
     "text": [
      "#######################################\n",
      "#######################################\n",
      "val:\n"
     ]
    },
    {
     "name": "stderr",
     "output_type": "stream",
     "text": [
      "eval: 100%|██████████| 40/40 [00:00<00:00, 502.60batch/s, acc=0.907, loss=0.1]\n"
     ]
    },
    {
     "name": "stdout",
     "output_type": "stream",
     "text": [
      "#######################################\n",
      "#######################################\n",
      "retain:\n"
     ]
    },
    {
     "name": "stderr",
     "output_type": "stream",
     "text": [
      "eval: 100%|██████████| 117/117 [00:00<00:00, 426.62batch/s, acc=0.926, loss=0.0489]\n"
     ]
    },
    {
     "name": "stdout",
     "output_type": "stream",
     "text": [
      "#######################################\n",
      "#######################################\n",
      "forget:\n"
     ]
    },
    {
     "name": "stderr",
     "output_type": "stream",
     "text": [
      "eval: 100%|██████████| 3/3 [00:00<00:00, 666.54batch/s, acc=0.912, loss=0.351]\n"
     ]
    },
    {
     "name": "stdout",
     "output_type": "stream",
     "text": [
      "#######################################\n",
      "#######################################\n",
      "surrogate:\n"
     ]
    },
    {
     "name": "stderr",
     "output_type": "stream",
     "text": [
      "eval: 100%|██████████| 117/117 [00:00<00:00, 460.51batch/s, acc=0.906, loss=0.0371]\n"
     ]
    },
    {
     "name": "stdout",
     "output_type": "stream",
     "text": [
      "#######################################\n"
     ]
    }
   ],
   "execution_count": 9
  },
  {
   "metadata": {
    "ExecuteTime": {
     "end_time": "2024-12-15T03:53:33.621686Z",
     "start_time": "2024-12-15T03:53:32.541174Z"
    }
   },
   "cell_type": "code",
   "source": [
    "# forget with surrogate\n",
    "# forget with exact\n",
    "model = model.to(device)\n",
    "smodel = forget(model, surr_loader, forget_loader, criterion, linear=True, num_class=10)\n",
    "model = model.to('cpu')\n",
    "print_eval(smodel)\n",
    "smodel = smodel.to('cpu')"
   ],
   "id": "aaa88e135c019db5",
   "outputs": [
    {
     "name": "stdout",
     "output_type": "stream",
     "text": [
      "#######################################\n",
      "train:\n"
     ]
    },
    {
     "name": "stderr",
     "output_type": "stream",
     "text": [
      "eval: 100%|██████████| 119/119 [00:00<00:00, 463.80batch/s, acc=0.925, loss=0.389]\n"
     ]
    },
    {
     "name": "stdout",
     "output_type": "stream",
     "text": [
      "#######################################\n",
      "#######################################\n",
      "val:\n"
     ]
    },
    {
     "name": "stderr",
     "output_type": "stream",
     "text": [
      "eval: 100%|██████████| 40/40 [00:00<00:00, 563.78batch/s, acc=0.907, loss=0.196]\n"
     ]
    },
    {
     "name": "stdout",
     "output_type": "stream",
     "text": [
      "#######################################\n",
      "#######################################\n",
      "retain:\n"
     ]
    },
    {
     "name": "stderr",
     "output_type": "stream",
     "text": [
      "eval: 100%|██████████| 117/117 [00:00<00:00, 480.24batch/s, acc=0.926, loss=0.533]\n"
     ]
    },
    {
     "name": "stdout",
     "output_type": "stream",
     "text": [
      "#######################################\n",
      "#######################################\n",
      "forget:\n"
     ]
    },
    {
     "name": "stderr",
     "output_type": "stream",
     "text": [
      "eval: 100%|██████████| 3/3 [00:00<00:00, 668.49batch/s, acc=0.905, loss=0.256]\n"
     ]
    },
    {
     "name": "stdout",
     "output_type": "stream",
     "text": [
      "#######################################\n",
      "#######################################\n",
      "surrogate:\n"
     ]
    },
    {
     "name": "stderr",
     "output_type": "stream",
     "text": [
      "eval: 100%|██████████| 117/117 [00:00<00:00, 465.35batch/s, acc=0.905, loss=0.832]"
     ]
    },
    {
     "name": "stdout",
     "output_type": "stream",
     "text": [
      "#######################################\n"
     ]
    },
    {
     "name": "stderr",
     "output_type": "stream",
     "text": [
      "\n"
     ]
    }
   ],
   "execution_count": 10
  }
 ],
 "metadata": {
  "kernelspec": {
   "display_name": "Python 3",
   "language": "python",
   "name": "python3"
  },
  "language_info": {
   "codemirror_mode": {
    "name": "ipython",
    "version": 2
   },
   "file_extension": ".py",
   "mimetype": "text/x-python",
   "name": "python",
   "nbconvert_exporter": "python",
   "pygments_lexer": "ipython2",
   "version": "2.7.6"
  }
 },
 "nbformat": 4,
 "nbformat_minor": 5
}
