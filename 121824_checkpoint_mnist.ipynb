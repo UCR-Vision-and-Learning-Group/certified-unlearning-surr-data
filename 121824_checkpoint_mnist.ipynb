{
 "cells": [
  {
   "cell_type": "code",
   "execution_count": 1,
   "id": "initial_id",
   "metadata": {
    "ExecuteTime": {
     "end_time": "2024-12-15T03:52:44.271953Z",
     "start_time": "2024-12-15T03:52:42.489622Z"
    },
    "collapsed": true
   },
   "outputs": [],
   "source": [
    "import torch\n",
    "import torch.nn as nn\n",
    "from torchvision.transforms import v2\n",
    "from torch.utils.data import ConcatDataset, TensorDataset\n",
    "import numpy as np\n",
    "\n",
    "from src.data import (get_train_test_datasets, get_dataloaders,\n",
    "                      get_retain_forget_datasets, get_exact_surr_datasets)\n",
    "from src.train import train\n",
    "from src.eval import evaluate\n",
    "from src.utils import set_seed\n",
    "from src.forget import forget\n",
    "\n",
    "set_seed(42)\n",
    "device = torch.device('cuda:0' if torch.cuda.is_available() else 'cpu')"
   ]
  },
  {
   "cell_type": "code",
   "execution_count": 2,
   "id": "c5a6fbe3a5fc3196",
   "metadata": {
    "ExecuteTime": {
     "end_time": "2024-12-15T03:52:44.800922Z",
     "start_time": "2024-12-15T03:52:44.797757Z"
    }
   },
   "outputs": [],
   "source": [
    "class ShallowModel(nn.Module):\n",
    "    def __init__(self, *args, **kwargs):\n",
    "        super().__init__(*args, **kwargs)\n",
    "        self.extractor = nn.Sequential(\n",
    "            nn.Linear(784, 256),\n",
    "            nn.ReLU()\n",
    "        )\n",
    "        \n",
    "        self.classifier = nn.Linear(256, 10)\n",
    "\n",
    "    def forward(self, x):\n",
    "        return self.classifier(self.extractor(x))"
   ]
  },
  {
   "cell_type": "code",
   "execution_count": 3,
   "id": "d4bbf1d2a79f3264",
   "metadata": {
    "ExecuteTime": {
     "end_time": "2024-12-15T03:52:47.409246Z",
     "start_time": "2024-12-15T03:52:45.733981Z"
    }
   },
   "outputs": [],
   "source": [
    "gtransform = v2.Compose([\n",
    "    v2.Grayscale(),\n",
    "    v2.Resize((28, 28)),\n",
    "    v2.ToImage(),\n",
    "    v2.ToDtype(torch.float32, scale=True),\n",
    "    v2.Normalize(mean=[0.5], std=[0.5]),\n",
    "    v2.Lambda(lambda img: img.view(-1))\n",
    "])\n",
    "\n",
    "\n",
    "gtrain_dataset, gval_dataset = get_train_test_datasets('usps', gtransform)\n",
    "gtrain_loader, gval_loader = get_dataloaders([gtrain_dataset, gval_dataset], batch_size=256)"
   ]
  },
  {
   "cell_type": "code",
   "execution_count": 4,
   "id": "b295c7399da2e718",
   "metadata": {
    "ExecuteTime": {
     "end_time": "2024-12-15T03:53:03.650113Z",
     "start_time": "2024-12-15T03:52:47.410477Z"
    }
   },
   "outputs": [
    {
     "name": "stderr",
     "output_type": "stream",
     "text": [
      "train epoch 1: 100%|██████████| 29/29 [00:01<00:00, 21.53batch/s, loss=0.193]\n",
      "eval: 100%|██████████| 8/8 [00:00<00:00, 22.51batch/s, acc=0.886, loss=0.578]\n",
      "train epoch 2: 100%|██████████| 29/29 [00:01<00:00, 24.06batch/s, loss=0.193]\n",
      "eval: 100%|██████████| 8/8 [00:00<00:00, 24.45batch/s, acc=0.906, loss=0.452]\n",
      "train epoch 3: 100%|██████████| 29/29 [00:01<00:00, 24.03batch/s, loss=0.152]\n",
      "eval: 100%|██████████| 8/8 [00:00<00:00, 24.81batch/s, acc=0.906, loss=0.35] \n",
      "train epoch 4: 100%|██████████| 29/29 [00:01<00:00, 24.22batch/s, loss=0.174]\n",
      "eval: 100%|██████████| 8/8 [00:00<00:00, 24.64batch/s, acc=0.917, loss=0.459]\n",
      "train epoch 5: 100%|██████████| 29/29 [00:01<00:00, 24.13batch/s, loss=0.0952]\n",
      "eval: 100%|██████████| 8/8 [00:00<00:00, 24.53batch/s, acc=0.926, loss=0.579]\n",
      "train epoch 6: 100%|██████████| 29/29 [00:01<00:00, 24.02batch/s, loss=0.157] \n",
      "eval: 100%|██████████| 8/8 [00:00<00:00, 24.49batch/s, acc=0.92, loss=0.301] \n",
      "train epoch 7: 100%|██████████| 29/29 [00:01<00:00, 23.99batch/s, loss=0.0653]\n",
      "eval: 100%|██████████| 8/8 [00:00<00:00, 24.49batch/s, acc=0.93, loss=0.274] \n",
      "train epoch 8: 100%|██████████| 29/29 [00:01<00:00, 23.99batch/s, loss=0.0972]\n",
      "eval: 100%|██████████| 8/8 [00:00<00:00, 24.48batch/s, acc=0.928, loss=0.488]\n",
      "train epoch 9: 100%|██████████| 29/29 [00:01<00:00, 24.00batch/s, loss=0.0979]\n",
      "eval: 100%|██████████| 8/8 [00:00<00:00, 24.41batch/s, acc=0.932, loss=0.219]\n",
      "train epoch 10: 100%|██████████| 29/29 [00:01<00:00, 23.92batch/s, loss=0.138] \n",
      "eval: 100%|██████████| 8/8 [00:00<00:00, 24.43batch/s, acc=0.93, loss=0.338] \n",
      "eval: 100%|██████████| 8/8 [00:00<00:00, 24.47batch/s, acc=0.93, loss=0.216] \n"
     ]
    }
   ],
   "source": [
    "model = ShallowModel()\n",
    "model = model.to(device)\n",
    "criterion = nn.CrossEntropyLoss()\n",
    "optimizer = torch.optim.Adam(model.parameters(), lr=0.001)\n",
    "train(gtrain_loader, gval_loader, model, criterion, optimizer, num_epoch=10, device=device)\n",
    "evaluate(gval_loader, model, criterion, device=device)"
   ]
  },
  {
   "cell_type": "code",
   "execution_count": 5,
   "id": "af6d486110582782",
   "metadata": {
    "ExecuteTime": {
     "end_time": "2024-12-15T03:53:13.854818Z",
     "start_time": "2024-12-15T03:53:03.651058Z"
    }
   },
   "outputs": [],
   "source": [
    "transform = v2.Compose([\n",
    "    v2.ToImage(),\n",
    "    v2.ToDtype(torch.float32, scale=True),\n",
    "    v2.Normalize(mean=[0.1307], std=[0.3081]),\n",
    "    v2.Lambda(lambda img: img.view(-1))\n",
    "])\n",
    "\n",
    "train_dataset, val_dataset = get_train_test_datasets('mnist', transform)\n",
    "train_loader, val_loader = get_dataloaders([train_dataset, val_dataset], batch_size=256)\n",
    "etrain_data, etrain_label, eval_data, eval_label = [], [], [], []\n",
    "with torch.no_grad():\n",
    "    for data, label in train_loader:\n",
    "        data = data.to(device)\n",
    "        edata = model.extractor(data).to('cpu')\n",
    "        etrain_data.append(edata)\n",
    "        etrain_label.append(label)\n",
    "    for data, label in val_loader:\n",
    "        data = data.to(device)\n",
    "        edata = model.extractor(data).to('cpu')\n",
    "        eval_data.append(edata)\n",
    "        eval_label.append(label)\n",
    "etrain_data = torch.cat(etrain_data, dim=0)\n",
    "etrain_label = torch.cat(etrain_label, dim=0)\n",
    "eval_data = torch.cat(eval_data, dim=0)\n",
    "eval_label = torch.cat(eval_label, dim=0)\n",
    "train_dataset = TensorDataset(etrain_data, etrain_label)\n",
    "val_dataset = TensorDataset(eval_data, eval_label)"
   ]
  },
  {
   "cell_type": "code",
   "execution_count": 6,
   "id": "b781bffec2b83dc9",
   "metadata": {
    "ExecuteTime": {
     "end_time": "2024-12-15T03:53:14.098382Z",
     "start_time": "2024-12-15T03:53:13.856020Z"
    }
   },
   "outputs": [],
   "source": [
    "exact_ratios = np.asarray([0.2, 0.05, 0, 0.05, 0.2, 0.1, 0.05, 0.2, 0.05, 0.1])\n",
    "surr_ratios = np.asarray([0.1, 0.1, 0.1, 0.1, 0.1, 0.1, 0.1, 0.1, 0.1, 0.1])\n",
    "exact_size = int(len(train_dataset) / 2)\n",
    "surr_size = len(train_dataset) - exact_size\n",
    "train_dataset, surr_dataset = get_exact_surr_datasets(train_dataset,\n",
    "                                                       target_size=exact_size, target_ratios=exact_ratios,\n",
    "                                                       starget_size=surr_size, starget_ratios=surr_ratios)\n",
    "retain_dataset, forget_dataset = get_retain_forget_datasets(train_dataset, 0.01)\n",
    "train_loader, val_loader = get_dataloaders([train_dataset, val_dataset], batch_size=256)\n",
    "retain_loader = get_dataloaders(retain_dataset, batch_size=256)\n",
    "forget_loader = get_dataloaders(forget_dataset, batch_size=256)\n",
    "surr_loader = get_dataloaders(surr_dataset, batch_size=256)\n",
    "\n",
    "def print_eval(model_arg):\n",
    "    print('#######################################')\n",
    "    print('train:')\n",
    "    evaluate(train_loader, model_arg, criterion, device=device)\n",
    "    print('#######################################')\n",
    "    print('#######################################')\n",
    "    print('val:')\n",
    "    evaluate(val_loader, model_arg, criterion, device=device)\n",
    "    print('#######################################')\n",
    "    print('#######################################')\n",
    "    print('retain:')\n",
    "    evaluate(retain_loader, model_arg, criterion, device=device)\n",
    "    print('#######################################')\n",
    "    print('#######################################')\n",
    "    print('forget:')\n",
    "    evaluate(forget_loader, model_arg, criterion, device=device)\n",
    "    print('#######################################')\n",
    "    print('#######################################')\n",
    "    print('surrogate:')\n",
    "    evaluate(surr_loader, model_arg, criterion, device=device)\n",
    "    print('#######################################')"
   ]
  },
  {
   "cell_type": "code",
   "execution_count": 7,
   "id": "f28f5f1cf7afeebf",
   "metadata": {
    "ExecuteTime": {
     "end_time": "2024-12-15T03:53:21.424377Z",
     "start_time": "2024-12-15T03:53:15.829672Z"
    }
   },
   "outputs": [
    {
     "name": "stderr",
     "output_type": "stream",
     "text": [
      "train epoch 1: 100%|██████████| 118/118 [00:00<00:00, 365.61batch/s, loss=0.433]\n",
      "eval: 100%|██████████| 40/40 [00:00<00:00, 556.76batch/s, acc=0.732, loss=1.24]\n",
      "train epoch 2: 100%|██████████| 118/118 [00:00<00:00, 426.68batch/s, loss=0.377]\n",
      "eval: 100%|██████████| 40/40 [00:00<00:00, 564.23batch/s, acc=0.785, loss=1.09]\n",
      "train epoch 3: 100%|██████████| 118/118 [00:00<00:00, 423.85batch/s, loss=0.255]\n",
      "eval: 100%|██████████| 40/40 [00:00<00:00, 564.01batch/s, acc=0.806, loss=1.29]\n",
      "train epoch 4: 100%|██████████| 118/118 [00:00<00:00, 423.60batch/s, loss=0.178]\n",
      "eval: 100%|██████████| 40/40 [00:00<00:00, 564.86batch/s, acc=0.828, loss=0.697]\n",
      "train epoch 5: 100%|██████████| 118/118 [00:00<00:00, 423.30batch/s, loss=0.299]\n",
      "eval: 100%|██████████| 40/40 [00:00<00:00, 562.56batch/s, acc=0.834, loss=0.304]\n",
      "train epoch 6: 100%|██████████| 118/118 [00:00<00:00, 326.44batch/s, loss=0.505]\n",
      "eval: 100%|██████████| 40/40 [00:00<00:00, 568.23batch/s, acc=0.854, loss=0.446]\n",
      "train epoch 7: 100%|██████████| 118/118 [00:00<00:00, 426.91batch/s, loss=0.156]\n",
      "eval: 100%|██████████| 40/40 [00:00<00:00, 564.17batch/s, acc=0.86, loss=0.27]\n",
      "train epoch 8: 100%|██████████| 118/118 [00:00<00:00, 426.86batch/s, loss=0.235]\n",
      "eval: 100%|██████████| 40/40 [00:00<00:00, 565.96batch/s, acc=0.844, loss=0.149]\n",
      "train epoch 9: 100%|██████████| 118/118 [00:00<00:00, 427.76batch/s, loss=0.22]\n",
      "eval: 100%|██████████| 40/40 [00:00<00:00, 565.90batch/s, acc=0.868, loss=0.399]\n",
      "train epoch 10: 100%|██████████| 118/118 [00:00<00:00, 425.56batch/s, loss=0.258]\n",
      "eval: 100%|██████████| 40/40 [00:00<00:00, 568.10batch/s, acc=0.868, loss=0.299]\n"
     ]
    },
    {
     "name": "stdout",
     "output_type": "stream",
     "text": [
      "#######################################\n",
      "train:\n"
     ]
    },
    {
     "name": "stderr",
     "output_type": "stream",
     "text": [
      "eval: 100%|██████████| 118/118 [00:00<00:00, 503.49batch/s, acc=0.938, loss=0.151]\n"
     ]
    },
    {
     "name": "stdout",
     "output_type": "stream",
     "text": [
      "#######################################\n",
      "#######################################\n",
      "val:\n"
     ]
    },
    {
     "name": "stderr",
     "output_type": "stream",
     "text": [
      "eval: 100%|██████████| 40/40 [00:00<00:00, 561.84batch/s, acc=0.868, loss=0.0856]\n"
     ]
    },
    {
     "name": "stdout",
     "output_type": "stream",
     "text": [
      "#######################################\n",
      "#######################################\n",
      "retain:\n"
     ]
    },
    {
     "name": "stderr",
     "output_type": "stream",
     "text": [
      "eval: 100%|██████████| 117/117 [00:00<00:00, 498.12batch/s, acc=0.938, loss=0.0488]\n"
     ]
    },
    {
     "name": "stdout",
     "output_type": "stream",
     "text": [
      "#######################################\n",
      "#######################################\n",
      "forget:\n"
     ]
    },
    {
     "name": "stderr",
     "output_type": "stream",
     "text": [
      "eval: 100%|██████████| 2/2 [00:00<00:00, 560.40batch/s, acc=0.953, loss=0.108]\n"
     ]
    },
    {
     "name": "stdout",
     "output_type": "stream",
     "text": [
      "#######################################\n",
      "#######################################\n",
      "surrogate:\n"
     ]
    },
    {
     "name": "stderr",
     "output_type": "stream",
     "text": [
      "eval: 100%|██████████| 118/118 [00:00<00:00, 499.21batch/s, acc=0.869, loss=0.305]"
     ]
    },
    {
     "name": "stdout",
     "output_type": "stream",
     "text": [
      "#######################################\n"
     ]
    },
    {
     "name": "stderr",
     "output_type": "stream",
     "text": [
      "\n"
     ]
    }
   ],
   "source": [
    "# train with all\n",
    "model = model.to('cpu') # just to clear the GPU\n",
    "model = nn.Linear(256, 10, bias=False).to(device)\n",
    "optimizer = torch.optim.Adam(model.parameters(), lr=0.001)\n",
    "train(train_loader, val_loader, model, criterion, optimizer, num_epoch=10, device=device)\n",
    "\n",
    "print_eval(model)\n",
    "model = model.to('cpu')"
   ]
  },
  {
   "cell_type": "code",
   "execution_count": 8,
   "id": "8d15adb230c3f70b",
   "metadata": {
    "ExecuteTime": {
     "end_time": "2024-12-15T03:53:28.539810Z",
     "start_time": "2024-12-15T03:53:23.269559Z"
    }
   },
   "outputs": [
    {
     "name": "stderr",
     "output_type": "stream",
     "text": [
      "train epoch 1: 100%|██████████| 117/117 [00:00<00:00, 301.70batch/s, loss=0.883]\n",
      "eval: 100%|██████████| 40/40 [00:00<00:00, 566.90batch/s, acc=0.735, loss=1.78]\n",
      "train epoch 2: 100%|██████████| 117/117 [00:00<00:00, 420.21batch/s, loss=0.516]\n",
      "eval: 100%|██████████| 40/40 [00:00<00:00, 559.28batch/s, acc=0.786, loss=1.64]\n",
      "train epoch 3: 100%|██████████| 117/117 [00:00<00:00, 417.66batch/s, loss=0.12]\n",
      "eval: 100%|██████████| 40/40 [00:00<00:00, 565.46batch/s, acc=0.797, loss=0.219]\n",
      "train epoch 4: 100%|██████████| 117/117 [00:00<00:00, 420.16batch/s, loss=0.581]\n",
      "eval: 100%|██████████| 40/40 [00:00<00:00, 562.03batch/s, acc=0.809, loss=0.639]\n",
      "train epoch 5: 100%|██████████| 117/117 [00:00<00:00, 420.48batch/s, loss=0.609]\n",
      "eval: 100%|██████████| 40/40 [00:00<00:00, 566.50batch/s, acc=0.827, loss=0.896]\n",
      "train epoch 6: 100%|██████████| 117/117 [00:00<00:00, 420.31batch/s, loss=0.0433]\n",
      "eval: 100%|██████████| 40/40 [00:00<00:00, 566.47batch/s, acc=0.829, loss=0.722]\n",
      "train epoch 7: 100%|██████████| 117/117 [00:00<00:00, 418.40batch/s, loss=0.268]\n",
      "eval: 100%|██████████| 40/40 [00:00<00:00, 564.30batch/s, acc=0.843, loss=0.538]\n",
      "train epoch 8: 100%|██████████| 117/117 [00:00<00:00, 322.41batch/s, loss=0.0354]\n",
      "eval: 100%|██████████| 40/40 [00:00<00:00, 566.90batch/s, acc=0.841, loss=0.665]\n",
      "train epoch 9: 100%|██████████| 117/117 [00:00<00:00, 421.39batch/s, loss=0.291]\n",
      "eval: 100%|██████████| 40/40 [00:00<00:00, 565.69batch/s, acc=0.847, loss=0.671]\n",
      "train epoch 10: 100%|██████████| 117/117 [00:00<00:00, 422.74batch/s, loss=0.136]\n",
      "eval: 100%|██████████| 40/40 [00:00<00:00, 566.10batch/s, acc=0.866, loss=0.584]\n"
     ]
    },
    {
     "name": "stdout",
     "output_type": "stream",
     "text": [
      "#######################################\n",
      "train:\n"
     ]
    },
    {
     "name": "stderr",
     "output_type": "stream",
     "text": [
      "eval: 100%|██████████| 118/118 [00:00<00:00, 504.17batch/s, acc=0.939, loss=0.278]\n"
     ]
    },
    {
     "name": "stdout",
     "output_type": "stream",
     "text": [
      "#######################################\n",
      "#######################################\n",
      "val:\n"
     ]
    },
    {
     "name": "stderr",
     "output_type": "stream",
     "text": [
      "eval: 100%|██████████| 40/40 [00:00<00:00, 560.74batch/s, acc=0.866, loss=0.149]\n"
     ]
    },
    {
     "name": "stdout",
     "output_type": "stream",
     "text": [
      "#######################################\n",
      "#######################################\n",
      "retain:\n"
     ]
    },
    {
     "name": "stderr",
     "output_type": "stream",
     "text": [
      "eval: 100%|██████████| 117/117 [00:00<00:00, 499.54batch/s, acc=0.938, loss=0.0937]\n"
     ]
    },
    {
     "name": "stdout",
     "output_type": "stream",
     "text": [
      "#######################################\n",
      "#######################################\n",
      "forget:\n"
     ]
    },
    {
     "name": "stderr",
     "output_type": "stream",
     "text": [
      "eval: 100%|██████████| 2/2 [00:00<00:00, 568.64batch/s, acc=0.95, loss=0.101]\n"
     ]
    },
    {
     "name": "stdout",
     "output_type": "stream",
     "text": [
      "#######################################\n",
      "#######################################\n",
      "surrogate:\n"
     ]
    },
    {
     "name": "stderr",
     "output_type": "stream",
     "text": [
      "eval: 100%|██████████| 118/118 [00:00<00:00, 493.78batch/s, acc=0.865, loss=0.315]"
     ]
    },
    {
     "name": "stdout",
     "output_type": "stream",
     "text": [
      "#######################################\n"
     ]
    },
    {
     "name": "stderr",
     "output_type": "stream",
     "text": [
      "\n"
     ]
    }
   ],
   "source": [
    "# retrain from scratch\n",
    "rmodel = nn.Linear(256, 10, bias=False).to(device)\n",
    "optimizer = torch.optim.Adam(rmodel.parameters(), lr=0.001)\n",
    "train(retain_loader, val_loader, rmodel, criterion, optimizer, num_epoch=10, device=device)\n",
    "\n",
    "print_eval(rmodel)\n",
    "rmodel = rmodel.to('cpu')"
   ]
  },
  {
   "cell_type": "code",
   "execution_count": 9,
   "id": "f8652d8706c83b77",
   "metadata": {
    "ExecuteTime": {
     "end_time": "2024-12-15T03:53:31.171136Z",
     "start_time": "2024-12-15T03:53:29.901362Z"
    }
   },
   "outputs": [
    {
     "name": "stdout",
     "output_type": "stream",
     "text": [
      "#######################################\n",
      "train:\n"
     ]
    },
    {
     "name": "stderr",
     "output_type": "stream",
     "text": [
      "eval: 100%|██████████| 118/118 [00:00<00:00, 500.24batch/s, acc=0.933, loss=0.296]\n"
     ]
    },
    {
     "name": "stdout",
     "output_type": "stream",
     "text": [
      "#######################################\n",
      "#######################################\n",
      "val:\n"
     ]
    },
    {
     "name": "stderr",
     "output_type": "stream",
     "text": [
      "eval: 100%|██████████| 40/40 [00:00<00:00, 557.30batch/s, acc=0.865, loss=0.379]\n"
     ]
    },
    {
     "name": "stdout",
     "output_type": "stream",
     "text": [
      "#######################################\n",
      "#######################################\n",
      "retain:\n"
     ]
    },
    {
     "name": "stderr",
     "output_type": "stream",
     "text": [
      "eval: 100%|██████████| 117/117 [00:00<00:00, 364.49batch/s, acc=0.933, loss=0.0121]\n"
     ]
    },
    {
     "name": "stdout",
     "output_type": "stream",
     "text": [
      "#######################################\n",
      "#######################################\n",
      "forget:\n"
     ]
    },
    {
     "name": "stderr",
     "output_type": "stream",
     "text": [
      "eval: 100%|██████████| 2/2 [00:00<00:00, 573.50batch/s, acc=0.917, loss=0.29]\n"
     ]
    },
    {
     "name": "stdout",
     "output_type": "stream",
     "text": [
      "#######################################\n",
      "#######################################\n",
      "surrogate:\n"
     ]
    },
    {
     "name": "stderr",
     "output_type": "stream",
     "text": [
      "eval: 100%|██████████| 118/118 [00:00<00:00, 499.82batch/s, acc=0.865, loss=0.424]"
     ]
    },
    {
     "name": "stdout",
     "output_type": "stream",
     "text": [
      "#######################################\n"
     ]
    },
    {
     "name": "stderr",
     "output_type": "stream",
     "text": [
      "\n"
     ]
    }
   ],
   "source": [
    "# forget with exact\n",
    "model = model.to(device)\n",
    "fmodel = forget(model, train_loader, forget_loader, forget_loader, criterion, linear=True, num_class=10)\n",
    "model = model.to('cpu')\n",
    "print_eval(fmodel)\n",
    "fmodel = fmodel.to('cpu')"
   ]
  },
  {
   "cell_type": "code",
   "execution_count": 10,
   "id": "aaa88e135c019db5",
   "metadata": {
    "ExecuteTime": {
     "end_time": "2024-12-15T03:53:33.621686Z",
     "start_time": "2024-12-15T03:53:32.541174Z"
    }
   },
   "outputs": [
    {
     "name": "stdout",
     "output_type": "stream",
     "text": [
      "#######################################\n",
      "train:\n"
     ]
    },
    {
     "name": "stderr",
     "output_type": "stream",
     "text": [
      "eval: 100%|██████████| 118/118 [00:00<00:00, 490.43batch/s, acc=0.934, loss=0.171]\n"
     ]
    },
    {
     "name": "stdout",
     "output_type": "stream",
     "text": [
      "#######################################\n",
      "#######################################\n",
      "val:\n"
     ]
    },
    {
     "name": "stderr",
     "output_type": "stream",
     "text": [
      "eval: 100%|██████████| 40/40 [00:00<00:00, 560.12batch/s, acc=0.865, loss=0.526]\n"
     ]
    },
    {
     "name": "stdout",
     "output_type": "stream",
     "text": [
      "#######################################\n",
      "#######################################\n",
      "retain:\n"
     ]
    },
    {
     "name": "stderr",
     "output_type": "stream",
     "text": [
      "eval: 100%|██████████| 117/117 [00:00<00:00, 495.12batch/s, acc=0.934, loss=0.842]\n"
     ]
    },
    {
     "name": "stdout",
     "output_type": "stream",
     "text": [
      "#######################################\n",
      "#######################################\n",
      "forget:\n"
     ]
    },
    {
     "name": "stderr",
     "output_type": "stream",
     "text": [
      "eval: 100%|██████████| 2/2 [00:00<00:00, 561.15batch/s, acc=0.937, loss=0.208]\n"
     ]
    },
    {
     "name": "stdout",
     "output_type": "stream",
     "text": [
      "#######################################\n",
      "#######################################\n",
      "surrogate:\n"
     ]
    },
    {
     "name": "stderr",
     "output_type": "stream",
     "text": [
      "eval: 100%|██████████| 118/118 [00:00<00:00, 497.28batch/s, acc=0.867, loss=0.334]"
     ]
    },
    {
     "name": "stdout",
     "output_type": "stream",
     "text": [
      "#######################################\n"
     ]
    },
    {
     "name": "stderr",
     "output_type": "stream",
     "text": [
      "\n"
     ]
    }
   ],
   "source": [
    "# forget with surrogate\n",
    "# forget with exact\n",
    "model = model.to(device)\n",
    "smodel = forget(model, surr_loader, forget_loader, forget_loader, criterion, linear=True, num_class=10)\n",
    "model = model.to('cpu')\n",
    "print_eval(smodel)\n",
    "smodel = smodel.to('cpu')"
   ]
  }
 ],
 "metadata": {
  "kernelspec": {
   "display_name": "icml25",
   "language": "python",
   "name": "python3"
  },
  "language_info": {
   "codemirror_mode": {
    "name": "ipython",
    "version": 3
   },
   "file_extension": ".py",
   "mimetype": "text/x-python",
   "name": "python",
   "nbconvert_exporter": "python",
   "pygments_lexer": "ipython3",
   "version": "3.11.11"
  }
 },
 "nbformat": 4,
 "nbformat_minor": 5
}
