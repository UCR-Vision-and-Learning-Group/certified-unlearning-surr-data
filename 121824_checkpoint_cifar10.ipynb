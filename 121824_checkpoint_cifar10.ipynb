{
 "cells": [
  {
   "cell_type": "code",
   "execution_count": 1,
   "id": "initial_id",
   "metadata": {
    "ExecuteTime": {
     "end_time": "2024-12-15T03:52:44.271953Z",
     "start_time": "2024-12-15T03:52:42.489622Z"
    },
    "collapsed": true
   },
   "outputs": [],
   "source": [
    "import torch\n",
    "import torch.nn as nn\n",
    "from torchvision.transforms import v2\n",
    "from torch.utils.data import ConcatDataset, TensorDataset\n",
    "import numpy as np\n",
    "from torchvision.models import ResNet18_Weights, resnet18\n",
    "from torchvision.transforms.v2.functional import InterpolationMode\n",
    "\n",
    "from src.data import (get_train_test_datasets, get_dataloaders,\n",
    "                      get_retain_forget_datasets, get_exact_surr_datasets)\n",
    "from src.train import train\n",
    "from src.eval import evaluate\n",
    "from src.utils import set_seed\n",
    "from src.forget import forget\n",
    "\n",
    "set_seed(42)\n",
    "device = torch.device('cuda:0' if torch.cuda.is_available() else 'cpu')"
   ]
  },
  {
   "cell_type": "code",
   "execution_count": 16,
   "id": "b295c7399da2e718",
   "metadata": {
    "ExecuteTime": {
     "end_time": "2024-12-15T03:53:03.650113Z",
     "start_time": "2024-12-15T03:52:47.410477Z"
    }
   },
   "outputs": [],
   "source": [
    "model = resnet18(weights=ResNet18_Weights.DEFAULT)\n",
    "feature_extractor = torch.nn.Sequential(*list(model.children())[:-1]).to(device)\n",
    "criterion = nn.CrossEntropyLoss()"
   ]
  },
  {
   "cell_type": "code",
   "execution_count": 17,
   "id": "af6d486110582782",
   "metadata": {
    "ExecuteTime": {
     "end_time": "2024-12-15T03:53:13.854818Z",
     "start_time": "2024-12-15T03:53:03.651058Z"
    }
   },
   "outputs": [
    {
     "name": "stdout",
     "output_type": "stream",
     "text": [
      "Files already downloaded and verified\n",
      "Files already downloaded and verified\n"
     ]
    }
   ],
   "source": [
    "transform = v2.Compose([\n",
    "    v2.Resize((224, 224), interpolation=InterpolationMode.BILINEAR),  # ResNet18 expects 224x224 input size\n",
    "    v2.ToImage(),\n",
    "    v2.ToDtype(torch.float32, scale=True),\n",
    "    v2.Normalize(mean=[0.485, 0.456, 0.406], std=[0.229, 0.224, 0.225]),  # Normalization for pretrained models\n",
    "])\n",
    "\n",
    "\n",
    "train_dataset, val_dataset = get_train_test_datasets('cifar10', transform)\n",
    "train_loader, val_loader = get_dataloaders([train_dataset, val_dataset], batch_size=256)\n",
    "etrain_data, etrain_label, eval_data, eval_label = [], [], [], []\n",
    "with torch.no_grad():\n",
    "    for data, label in train_loader:\n",
    "        data = data.to(device)\n",
    "        edata = feature_extractor(data).to('cpu')\n",
    "        etrain_data.append(edata.view(edata.shape[0], -1))\n",
    "        etrain_label.append(label)\n",
    "    for data, label in val_loader:\n",
    "        data = data.to(device)\n",
    "        edata = feature_extractor(data).to('cpu')\n",
    "        eval_data.append(edata.view(edata.shape[0], -1))\n",
    "        eval_label.append(label)\n",
    "etrain_data = torch.cat(etrain_data, dim=0)\n",
    "etrain_label = torch.cat(etrain_label, dim=0)\n",
    "eval_data = torch.cat(eval_data, dim=0)\n",
    "eval_label = torch.cat(eval_label, dim=0)\n",
    "train_dataset = TensorDataset(etrain_data, etrain_label)\n",
    "val_dataset = TensorDataset(eval_data, eval_label)"
   ]
  },
  {
   "cell_type": "code",
   "execution_count": 18,
   "id": "b781bffec2b83dc9",
   "metadata": {
    "ExecuteTime": {
     "end_time": "2024-12-15T03:53:14.098382Z",
     "start_time": "2024-12-15T03:53:13.856020Z"
    }
   },
   "outputs": [],
   "source": [
    "exact_ratios = np.asarray([0.2, 0.05, 0.05, 0.05, 0.2, 0.1, 0.05, 0.2, 0.05, 0.05])\n",
    "surr_ratios = np.asarray([0.1, 0.1, 0.1, 0.1, 0.1, 0.1, 0.1, 0.1, 0.1, 0.1])\n",
    "exact_size = int(len(train_dataset) / 2)\n",
    "surr_size = len(train_dataset) - exact_size\n",
    "train_dataset, surr_dataset = get_exact_surr_datasets(train_dataset, \n",
    "                                                      target_size=exact_size, target_ratios=exact_ratios,\n",
    "                                                      starget_size=surr_size, starget_ratios=surr_ratios)\n",
    "retain_dataset, forget_dataset = get_retain_forget_datasets(train_dataset, 0.01)\n",
    "train_loader, val_loader = get_dataloaders([train_dataset, val_dataset], batch_size=256)\n",
    "retain_loader = get_dataloaders(retain_dataset, batch_size=256)\n",
    "forget_loader = get_dataloaders(forget_dataset, batch_size=256)\n",
    "surr_loader = get_dataloaders(surr_dataset, batch_size=256)\n",
    "\n",
    "def print_eval(model_arg):\n",
    "    print('#######################################')\n",
    "    print('train:')\n",
    "    evaluate(train_loader, model_arg, criterion, device=device)\n",
    "    print('#######################################')\n",
    "    print('#######################################')\n",
    "    print('val:')\n",
    "    evaluate(val_loader, model_arg, criterion, device=device)\n",
    "    print('#######################################')\n",
    "    print('#######################################')\n",
    "    print('retain:')\n",
    "    evaluate(retain_loader, model_arg, criterion, device=device)\n",
    "    print('#######################################')\n",
    "    print('#######################################')\n",
    "    print('forget:')\n",
    "    evaluate(forget_loader, model_arg, criterion, device=device)\n",
    "    print('#######################################')\n",
    "    print('#######################################')\n",
    "    print('surrogate:')\n",
    "    evaluate(surr_loader, model_arg, criterion, device=device)\n",
    "    print('#######################################')"
   ]
  },
  {
   "cell_type": "code",
   "execution_count": 20,
   "id": "f28f5f1cf7afeebf",
   "metadata": {
    "ExecuteTime": {
     "end_time": "2024-12-15T03:53:21.424377Z",
     "start_time": "2024-12-15T03:53:15.829672Z"
    }
   },
   "outputs": [
    {
     "name": "stderr",
     "output_type": "stream",
     "text": [
      "train epoch 1: 100%|██████████| 98/98 [00:00<00:00, 334.04batch/s, loss=0.737]\n",
      "eval: 100%|██████████| 40/40 [00:00<00:00, 448.49batch/s, acc=0.666, loss=0.886]\n",
      "train epoch 2: 100%|██████████| 98/98 [00:00<00:00, 428.29batch/s, loss=0.677]\n",
      "eval: 100%|██████████| 40/40 [00:00<00:00, 575.12batch/s, acc=0.733, loss=0.8]\n",
      "train epoch 3: 100%|██████████| 98/98 [00:00<00:00, 431.66batch/s, loss=0.657]\n",
      "eval: 100%|██████████| 40/40 [00:00<00:00, 577.50batch/s, acc=0.749, loss=0.675]\n",
      "train epoch 4: 100%|██████████| 98/98 [00:00<00:00, 426.01batch/s, loss=0.72] \n",
      "eval: 100%|██████████| 40/40 [00:00<00:00, 577.47batch/s, acc=0.756, loss=0.612]\n",
      "train epoch 5: 100%|██████████| 98/98 [00:00<00:00, 289.91batch/s, loss=0.472]\n",
      "eval: 100%|██████████| 40/40 [00:00<00:00, 580.61batch/s, acc=0.758, loss=0.703]\n",
      "train epoch 6: 100%|██████████| 98/98 [00:00<00:00, 424.27batch/s, loss=0.562]\n",
      "eval: 100%|██████████| 40/40 [00:00<00:00, 544.56batch/s, acc=0.767, loss=0.973]\n",
      "train epoch 7: 100%|██████████| 98/98 [00:00<00:00, 397.83batch/s, loss=0.456]\n",
      "eval: 100%|██████████| 40/40 [00:00<00:00, 544.14batch/s, acc=0.755, loss=0.373]\n",
      "train epoch 8: 100%|██████████| 98/98 [00:00<00:00, 411.28batch/s, loss=0.565]\n",
      "eval: 100%|██████████| 40/40 [00:00<00:00, 543.70batch/s, acc=0.771, loss=0.59]\n",
      "train epoch 9: 100%|██████████| 98/98 [00:00<00:00, 413.88batch/s, loss=0.417]\n",
      "eval: 100%|██████████| 40/40 [00:00<00:00, 542.20batch/s, acc=0.771, loss=0.837]\n",
      "train epoch 10: 100%|██████████| 98/98 [00:00<00:00, 410.53batch/s, loss=0.492]\n",
      "eval: 100%|██████████| 40/40 [00:00<00:00, 540.16batch/s, acc=0.769, loss=0.533]\n"
     ]
    },
    {
     "name": "stdout",
     "output_type": "stream",
     "text": [
      "#######################################\n",
      "train:\n"
     ]
    },
    {
     "name": "stderr",
     "output_type": "stream",
     "text": [
      "eval: 100%|██████████| 98/98 [00:00<00:00, 481.24batch/s, acc=0.829, loss=0.476]\n"
     ]
    },
    {
     "name": "stdout",
     "output_type": "stream",
     "text": [
      "#######################################\n",
      "#######################################\n",
      "val:\n"
     ]
    },
    {
     "name": "stderr",
     "output_type": "stream",
     "text": [
      "eval: 100%|██████████| 40/40 [00:00<00:00, 541.03batch/s, acc=0.769, loss=1.06]\n"
     ]
    },
    {
     "name": "stdout",
     "output_type": "stream",
     "text": [
      "#######################################\n",
      "#######################################\n",
      "retain:\n"
     ]
    },
    {
     "name": "stderr",
     "output_type": "stream",
     "text": [
      "eval: 100%|██████████| 97/97 [00:00<00:00, 478.10batch/s, acc=0.829, loss=0.543]\n"
     ]
    },
    {
     "name": "stdout",
     "output_type": "stream",
     "text": [
      "#######################################\n",
      "#######################################\n",
      "forget:\n"
     ]
    },
    {
     "name": "stderr",
     "output_type": "stream",
     "text": [
      "eval: 100%|██████████| 1/1 [00:00<00:00, 449.45batch/s, acc=0.828, loss=0.488]\n"
     ]
    },
    {
     "name": "stdout",
     "output_type": "stream",
     "text": [
      "#######################################\n",
      "#######################################\n",
      "surrogate:\n"
     ]
    },
    {
     "name": "stderr",
     "output_type": "stream",
     "text": [
      "eval: 100%|██████████| 98/98 [00:00<00:00, 481.51batch/s, acc=0.782, loss=0.72] "
     ]
    },
    {
     "name": "stdout",
     "output_type": "stream",
     "text": [
      "#######################################\n"
     ]
    },
    {
     "name": "stderr",
     "output_type": "stream",
     "text": [
      "\n"
     ]
    }
   ],
   "source": [
    "# train with all\n",
    "feature_extractor = feature_extractor.to('cpu') # just to clear the GPU\n",
    "model = nn.Linear(512, 10, bias=False).to(device)\n",
    "optimizer = torch.optim.Adam(model.parameters(), lr=0.001)\n",
    "train(train_loader, val_loader, model, criterion, optimizer, num_epoch=10, device=device)\n",
    "\n",
    "print_eval(model)\n",
    "model = model.to('cpu')"
   ]
  },
  {
   "cell_type": "code",
   "execution_count": 22,
   "id": "8d15adb230c3f70b",
   "metadata": {
    "ExecuteTime": {
     "end_time": "2024-12-15T03:53:28.539810Z",
     "start_time": "2024-12-15T03:53:23.269559Z"
    }
   },
   "outputs": [
    {
     "name": "stderr",
     "output_type": "stream",
     "text": [
      "train epoch 1: 100%|██████████| 97/97 [00:00<00:00, 337.87batch/s, loss=0.758]\n",
      "eval: 100%|██████████| 40/40 [00:00<00:00, 553.16batch/s, acc=0.654, loss=1.13]\n",
      "train epoch 2: 100%|██████████| 97/97 [00:00<00:00, 408.94batch/s, loss=0.69] \n",
      "eval: 100%|██████████| 40/40 [00:00<00:00, 542.11batch/s, acc=0.72, loss=0.676]\n",
      "train epoch 3: 100%|██████████| 97/97 [00:00<00:00, 406.68batch/s, loss=0.54] \n",
      "eval: 100%|██████████| 40/40 [00:00<00:00, 544.69batch/s, acc=0.737, loss=0.587]\n",
      "train epoch 4: 100%|██████████| 97/97 [00:00<00:00, 404.86batch/s, loss=0.575]\n",
      "eval: 100%|██████████| 40/40 [00:00<00:00, 544.79batch/s, acc=0.755, loss=1.16]\n",
      "train epoch 5: 100%|██████████| 97/97 [00:00<00:00, 278.07batch/s, loss=0.445]\n",
      "eval: 100%|██████████| 40/40 [00:00<00:00, 545.00batch/s, acc=0.76, loss=0.503]\n",
      "train epoch 6: 100%|██████████| 97/97 [00:00<00:00, 403.53batch/s, loss=0.58] \n",
      "eval: 100%|██████████| 40/40 [00:00<00:00, 547.18batch/s, acc=0.761, loss=0.575]\n",
      "train epoch 7: 100%|██████████| 97/97 [00:00<00:00, 404.57batch/s, loss=0.539]\n",
      "eval: 100%|██████████| 40/40 [00:00<00:00, 542.96batch/s, acc=0.768, loss=0.559]\n",
      "train epoch 8: 100%|██████████| 97/97 [00:00<00:00, 403.20batch/s, loss=0.525]\n",
      "eval: 100%|██████████| 40/40 [00:00<00:00, 542.24batch/s, acc=0.771, loss=0.853]\n",
      "train epoch 9: 100%|██████████| 97/97 [00:00<00:00, 402.56batch/s, loss=0.66] \n",
      "eval: 100%|██████████| 40/40 [00:00<00:00, 543.36batch/s, acc=0.77, loss=0.659]\n",
      "train epoch 10: 100%|██████████| 97/97 [00:00<00:00, 399.79batch/s, loss=0.447]\n",
      "eval: 100%|██████████| 40/40 [00:00<00:00, 541.68batch/s, acc=0.767, loss=0.579]\n"
     ]
    },
    {
     "name": "stdout",
     "output_type": "stream",
     "text": [
      "#######################################\n",
      "train:\n"
     ]
    },
    {
     "name": "stderr",
     "output_type": "stream",
     "text": [
      "eval: 100%|██████████| 98/98 [00:00<00:00, 479.50batch/s, acc=0.834, loss=0.445]\n"
     ]
    },
    {
     "name": "stdout",
     "output_type": "stream",
     "text": [
      "#######################################\n",
      "#######################################\n",
      "val:\n"
     ]
    },
    {
     "name": "stderr",
     "output_type": "stream",
     "text": [
      "eval: 100%|██████████| 40/40 [00:00<00:00, 565.41batch/s, acc=0.767, loss=0.877]\n"
     ]
    },
    {
     "name": "stdout",
     "output_type": "stream",
     "text": [
      "#######################################\n",
      "#######################################\n",
      "retain:\n"
     ]
    },
    {
     "name": "stderr",
     "output_type": "stream",
     "text": [
      "eval: 100%|██████████| 97/97 [00:00<00:00, 473.75batch/s, acc=0.834, loss=0.508]\n"
     ]
    },
    {
     "name": "stdout",
     "output_type": "stream",
     "text": [
      "#######################################\n",
      "#######################################\n",
      "forget:\n"
     ]
    },
    {
     "name": "stderr",
     "output_type": "stream",
     "text": [
      "eval: 100%|██████████| 1/1 [00:00<00:00, 374.73batch/s, acc=0.836, loss=0.536]\n"
     ]
    },
    {
     "name": "stdout",
     "output_type": "stream",
     "text": [
      "#######################################\n",
      "#######################################\n",
      "surrogate:\n"
     ]
    },
    {
     "name": "stderr",
     "output_type": "stream",
     "text": [
      "eval: 100%|██████████| 98/98 [00:00<00:00, 479.16batch/s, acc=0.777, loss=0.704]"
     ]
    },
    {
     "name": "stdout",
     "output_type": "stream",
     "text": [
      "#######################################\n"
     ]
    },
    {
     "name": "stderr",
     "output_type": "stream",
     "text": [
      "\n"
     ]
    }
   ],
   "source": [
    "# retrain from scratch\n",
    "rmodel = nn.Linear(512, 10, bias=False).to(device)\n",
    "optimizer = torch.optim.Adam(rmodel.parameters(), lr=0.001)\n",
    "train(retain_loader, val_loader, rmodel, criterion, optimizer, num_epoch=10, device=device)\n",
    "\n",
    "print_eval(rmodel)\n",
    "rmodel = rmodel.to('cpu')"
   ]
  },
  {
   "cell_type": "code",
   "execution_count": 23,
   "id": "f8652d8706c83b77",
   "metadata": {
    "ExecuteTime": {
     "end_time": "2024-12-15T03:53:31.171136Z",
     "start_time": "2024-12-15T03:53:29.901362Z"
    }
   },
   "outputs": [
    {
     "name": "stdout",
     "output_type": "stream",
     "text": [
      "#######################################\n",
      "train:\n"
     ]
    },
    {
     "name": "stderr",
     "output_type": "stream",
     "text": [
      "eval: 100%|██████████| 98/98 [00:00<00:00, 518.70batch/s, acc=0.824, loss=0.558]\n"
     ]
    },
    {
     "name": "stdout",
     "output_type": "stream",
     "text": [
      "#######################################\n",
      "#######################################\n",
      "val:\n"
     ]
    },
    {
     "name": "stderr",
     "output_type": "stream",
     "text": [
      "eval: 100%|██████████| 40/40 [00:00<00:00, 565.11batch/s, acc=0.765, loss=0.723]\n"
     ]
    },
    {
     "name": "stdout",
     "output_type": "stream",
     "text": [
      "#######################################\n",
      "#######################################\n",
      "retain:\n"
     ]
    },
    {
     "name": "stderr",
     "output_type": "stream",
     "text": [
      "eval: 100%|██████████| 97/97 [00:00<00:00, 474.05batch/s, acc=0.825, loss=0.45] \n"
     ]
    },
    {
     "name": "stdout",
     "output_type": "stream",
     "text": [
      "#######################################\n",
      "#######################################\n",
      "forget:\n"
     ]
    },
    {
     "name": "stderr",
     "output_type": "stream",
     "text": [
      "eval: 100%|██████████| 1/1 [00:00<00:00, 384.52batch/s, acc=0.712, loss=1.04]\n"
     ]
    },
    {
     "name": "stdout",
     "output_type": "stream",
     "text": [
      "#######################################\n",
      "#######################################\n",
      "surrogate:\n"
     ]
    },
    {
     "name": "stderr",
     "output_type": "stream",
     "text": [
      "eval: 100%|██████████| 98/98 [00:00<00:00, 491.61batch/s, acc=0.776, loss=0.533]\n"
     ]
    },
    {
     "name": "stdout",
     "output_type": "stream",
     "text": [
      "#######################################\n"
     ]
    }
   ],
   "source": [
    "# forget with exact\n",
    "model = model.to(device)\n",
    "fmodel = forget(model, train_loader, forget_loader, forget_loader, criterion, linear=True, num_class=10)\n",
    "model = model.to('cpu')\n",
    "print_eval(fmodel)\n",
    "fmodel = fmodel.to('cpu')"
   ]
  },
  {
   "cell_type": "code",
   "execution_count": 24,
   "id": "aaa88e135c019db5",
   "metadata": {
    "ExecuteTime": {
     "end_time": "2024-12-15T03:53:33.621686Z",
     "start_time": "2024-12-15T03:53:32.541174Z"
    }
   },
   "outputs": [
    {
     "name": "stdout",
     "output_type": "stream",
     "text": [
      "#######################################\n",
      "train:\n"
     ]
    },
    {
     "name": "stderr",
     "output_type": "stream",
     "text": [
      "eval: 100%|██████████| 98/98 [00:00<00:00, 319.89batch/s, acc=0.825, loss=0.472]\n"
     ]
    },
    {
     "name": "stdout",
     "output_type": "stream",
     "text": [
      "#######################################\n",
      "#######################################\n",
      "val:\n"
     ]
    },
    {
     "name": "stderr",
     "output_type": "stream",
     "text": [
      "eval: 100%|██████████| 40/40 [00:00<00:00, 545.33batch/s, acc=0.765, loss=1.31]\n"
     ]
    },
    {
     "name": "stdout",
     "output_type": "stream",
     "text": [
      "#######################################\n",
      "#######################################\n",
      "retain:\n"
     ]
    },
    {
     "name": "stderr",
     "output_type": "stream",
     "text": [
      "eval: 100%|██████████| 97/97 [00:00<00:00, 474.81batch/s, acc=0.826, loss=0.523]\n"
     ]
    },
    {
     "name": "stdout",
     "output_type": "stream",
     "text": [
      "#######################################\n",
      "#######################################\n",
      "forget:\n"
     ]
    },
    {
     "name": "stderr",
     "output_type": "stream",
     "text": [
      "eval: 100%|██████████| 1/1 [00:00<00:00, 384.83batch/s, acc=0.716, loss=1.04]\n"
     ]
    },
    {
     "name": "stdout",
     "output_type": "stream",
     "text": [
      "#######################################\n",
      "#######################################\n",
      "surrogate:\n"
     ]
    },
    {
     "name": "stderr",
     "output_type": "stream",
     "text": [
      "eval: 100%|██████████| 98/98 [00:00<00:00, 479.85batch/s, acc=0.777, loss=0.63] \n"
     ]
    },
    {
     "name": "stdout",
     "output_type": "stream",
     "text": [
      "#######################################\n"
     ]
    }
   ],
   "source": [
    "# forget with surrogate\n",
    "# forget with exact\n",
    "model = model.to(device)\n",
    "smodel = forget(model, surr_loader, forget_loader, forget_loader, criterion, linear=True, num_class=10)\n",
    "model = model.to('cpu')\n",
    "print_eval(smodel)\n",
    "smodel = smodel.to('cpu')"
   ]
  }
 ],
 "metadata": {
  "kernelspec": {
   "display_name": "icml25",
   "language": "python",
   "name": "python3"
  },
  "language_info": {
   "codemirror_mode": {
    "name": "ipython",
    "version": 3
   },
   "file_extension": ".py",
   "mimetype": "text/x-python",
   "name": "python",
   "nbconvert_exporter": "python",
   "pygments_lexer": "ipython3",
   "version": "3.11.11"
  }
 },
 "nbformat": 4,
 "nbformat_minor": 5
}
